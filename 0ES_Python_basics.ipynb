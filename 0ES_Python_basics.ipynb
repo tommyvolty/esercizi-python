{
  "cells": [
    {
      "cell_type": "markdown",
      "metadata": {
        "id": "q4KH5Ja2qLt1"
      },
      "source": [
        "# Python from Scratch - Esercizi\n",
        "\n",
        "*Chinellato Diego - TPSIT*\n",
        "\n",
        "*ITTS V. Volterra*\n",
        "\n",
        "*A.S. 2022/2023*"
      ]
    },
    {
      "cell_type": "markdown",
      "metadata": {
        "id": "W2tPFm9Qf5oB"
      },
      "source": [
        "Ogni esercizio è accompagnato da una serie di `assert` che verificano se la funzione è corretta. In poche parole, `assert` è un operatore Python (ma è presente in molti linguaggi) che lancia un'eccezione se una certa condizione non viene rispettata:"
      ]
    },
    {
      "cell_type": "code",
      "execution_count": null,
      "metadata": {
        "colab": {
          "base_uri": "https://localhost:8080/",
          "height": 186
        },
        "id": "tTHxYOftjXTa",
        "outputId": "711853cf-cfeb-4058-a49a-3482cc1175d9"
      },
      "outputs": [],
      "source": [
        "assert 1 == 1, 'primo assert passato'\n",
        "assert 1 == 2, 'secondo assert fallito'"
      ]
    },
    {
      "cell_type": "markdown",
      "metadata": {
        "id": "Mq5gngc7juaz"
      },
      "source": [
        "La sintassi è `assert check msg`, dove `check` è l'espressione booleana da valutare e `msg` è il messaggio che viene printato se il check fallisce. Sono estremamente utili, sopratutto per debuggare e testare il codice. Per approffondire: https://realpython.com/python-assert-statement/"
      ]
    },
    {
      "cell_type": "markdown",
      "metadata": {
        "id": "KizLECz3qLuR"
      },
      "source": [
        "## Esercizio 1: find and replace\n",
        "\n",
        "Find-and-replace è una feature molto comune in text editors, IDEs e software di word processing. In questo esercizio, dovrai implementare questa comune funzione.\n",
        "\n",
        "Definisci una funzione `find_and_replace(text, old_text, new_text)` che sostituisce tutte le occorrenze di `old_text` in `text` con `new_text`. La funzione deve essere case sensitive (vedi esempi nella cella con assert)."
      ]
    },
    {
      "cell_type": "code",
      "execution_count": null,
      "metadata": {
        "id": "xxJXSbw8fZUN"
      },
      "outputs": [],
      "source": [
        "def find_and_replace(text, old_text, new_text):\n",
        "  lungh=len(text)\n",
        "  fin=''\n",
        "  i=0\n",
        "  while i<lungh:\n",
        "    if text[i:i+len(old_text)]==old_text: \n",
        "      fin+=new_text\n",
        "      i+=len(old_text)\n",
        "    else:\n",
        "      fin+=text[i]\n",
        "      i+=1\n",
        "  print(fin)\n",
        "  return fin"
      ]
    },
    {
      "cell_type": "code",
      "execution_count": null,
      "metadata": {},
      "outputs": [],
      "source": [
        "find_and_replace('The grillo', 'grillo', 'dog')"
      ]
    },
    {
      "cell_type": "code",
      "execution_count": null,
      "metadata": {
        "colab": {
          "base_uri": "https://localhost:8080/"
        },
        "id": "s4YnBPK8qLuR",
        "outputId": "1240cc22-ab97-42b9-a76d-3175578a12c7"
      },
      "outputs": [],
      "source": [
        "assert find_and_replace('The fox', 'fox', 'dog') == 'The dog'\n",
        "assert find_and_replace('fox', 'fox', 'dog') == 'dog'\n",
        "assert find_and_replace('Firefox', 'fox', 'dog') == 'Firedog'\n",
        "assert find_and_replace('foxfox', 'fox', 'dog') == 'dogdog'\n",
        "assert find_and_replace('The Fox and fox.', 'fox', 'dog') == 'The Fox and dog.'\n",
        "assert find_and_replace('THE FOX AND THE DOG' 'fox', 'dog') == 'THE FOX AND THE DOG'"
      ]
    },
    {
      "cell_type": "markdown",
      "metadata": {
        "id": "veZRTaASf2rZ"
      },
      "source": [
        "## Esercizio 2: ore, minuti, secondi\n",
        "Definisci una funzione `get_hours_minutes_seconds(seconds)` che converte il numero di secondi passato come parametro nel numero di ore, minuti e secondi.\n",
        "Ad esempio, `get_hours_minutes_seconds(90)` deve ritornare '1m 30s'\n",
        "Per una sfida in più, considera anche il periodo di 24 ore e aggiungi il suffisso \"d\"; ad esempio, `get_hours_minutes_seconds(90042)` ritorna '1d 1h 42s'."
      ]
    },
    {
      "cell_type": "code",
      "execution_count": null,
      "metadata": {
        "id": "taOZevsskr_0"
      },
      "outputs": [],
      "source": [
        "def get_hours_minutes_seconds(seconds):\n",
        "  if seconds >=60:\n",
        "    if seconds >= 86400:\n",
        "      giorni=int(seconds/86400)\n",
        "      seconds = seconds -(giorni*86400)\n",
        "      print(giorni,\"d \",end=\"\")\n",
        "    if seconds >=3600:\n",
        "      ore=int(seconds/3600)\n",
        "      seconds = seconds -(ore*3600)\n",
        "      print(ore,\"h \",end=\"\",sep=\"\")\n",
        "    if seconds >= 60:\n",
        "      minuti=int(seconds/60)\n",
        "      seconds = seconds -(minuti*60)\n",
        "      print(minuti,\"m \",end=\"\",sep=\"\")\n",
        "    if seconds >0:  \n",
        "      print(seconds,\"s \",sep=\"\")\n",
        "  else:\n",
        "    print(seconds,\"s\")\n",
        "pass"
      ]
    },
    {
      "cell_type": "code",
      "execution_count": null,
      "metadata": {},
      "outputs": [],
      "source": [
        "get_hours_minutes_seconds(30) \n",
        "get_hours_minutes_seconds(60) \n",
        "get_hours_minutes_seconds(90) \n",
        "get_hours_minutes_seconds(3600)\n",
        "get_hours_minutes_seconds(3601) \n",
        "get_hours_minutes_seconds(3661) \n",
        "get_hours_minutes_seconds(90042) \n",
        "get_hours_minutes_seconds(0) "
      ]
    },
    {
      "cell_type": "code",
      "execution_count": null,
      "metadata": {
        "id": "DX3TsjlbksgK"
      },
      "outputs": [],
      "source": [
        "assert get_hours_minutes_seconds(30) == '30s'\n",
        "assert get_hours_minutes_seconds(60) == '1m'\n",
        "assert get_hours_minutes_seconds(90) == '1m 30s'\n",
        "assert get_hours_minutes_seconds(3600) == '1h'\n",
        "assert get_hours_minutes_seconds(3601) == '1h 1s'\n",
        "assert get_hours_minutes_seconds(3661) == '1h 1m 1s'\n",
        "assert get_hours_minutes_seconds(90042) == '25h 42s'\n",
        "assert get_hours_minutes_seconds(0) == '0s'"
      ]
    },
    {
      "cell_type": "markdown",
      "metadata": {
        "id": "nmN8-W4mpWGh"
      },
      "source": [
        "## Esercizio 3: massimi e minimi, somme e prodotti, medie e mediane \n",
        "Scrivere le seguenti funzioni che \"riducono\" un iterabile (lista, tupla, set, ...) a un singolo valore:\n",
        "* `maximum(t)` e `minimum(t)` che ritornano rispettivamente il valore massimo e minimo presente in `t`\n",
        "* `somma(t)` e `prod(t)` che ritornano rispettivamente la somma e il prodotto di tutti gli elementi di `t`\n",
        "* `moda(t)` che ritorna l'elemento più frequente di `t`\n",
        "* `avg(t)` e `median(t)` che ritornano rispettivamente la media e la mediana di `t`. \n",
        "  * Assumendo che `t` contenga `n` elementi, la media è definita come: $\\frac{1}{n}∑_{x \\in t}x$. \n",
        "  * La mediana è invece definita come l'elemento centrale di t, dopo che t è stato ordinato in ordine crescente. Se n è dispari, l'elemento centrale è l'elemento in posizione $\\frac{n+1}{2}$, mentre se n è pari l'elemento centrale è la media dei due elementi nelle posizioni $\\frac{n}{2}, \\frac{n}{2} + 1$ ($\\frac{t[\\frac{n}{2}] + t[\\frac{n}{2} + 1]}{2}$)."
      ]
    },
    {
      "cell_type": "code",
      "execution_count": null,
      "metadata": {
        "id": "jSWg4OXPseaK"
      },
      "outputs": [],
      "source": [
        "def maximum(t):\n",
        "  max = t[0]\n",
        "  for i in range (len(t)):\n",
        "    if t[i]>max:\n",
        "      max=t[i]\n",
        "  print(\"massimo:\",max)  \n",
        "\n",
        "def minimum(t):\n",
        "  min = t[0]\n",
        "  for i in range (len(t)):\n",
        "    if t[i]<min:\n",
        "      min=t[i]\n",
        "  print(\"minimo:\",min)\n",
        "\n",
        "def somma(t):\n",
        "  sum=0\n",
        "  for i in range(len(t)):\n",
        "    sum = sum+t[i]\n",
        "  print(\"somma:\",sum)\n",
        "\n",
        "def prod(t):\n",
        "  prod = 1\n",
        "  for i in range(len(t)):\n",
        "    prod = prod*t[i]\n",
        "  print(\"prodotto:\",prod)\n",
        "\n",
        "def moda(t):\n",
        "  contmax=0\n",
        "  moda=0\n",
        "  for i in range(len(t)):\n",
        "    cont = 0\n",
        "    for j in range(len(t)):\n",
        "      if t[i]==t[j]:    \n",
        "        cont+=1\n",
        "    if i==0:\n",
        "      contmax=cont\n",
        "      moda=t[i]\n",
        "    else:\n",
        "      if cont>contmax:\n",
        "        contmax=cont\n",
        "        moda=t[i]\n",
        "  print(\"moda:\",moda)\n",
        "\n",
        "\n",
        "def avg(t):\n",
        "  somma = sum(t)\n",
        "  media = somma/len(t)\n",
        "  print(\"la media è:\",media)\n",
        "\n",
        "\n",
        "def median(t):\n",
        "  t.sort()\n",
        "  mediana = 0\n",
        "  if (len(t)%2)!=0:\n",
        "    mediana=t[int((len(t)-1)/2)]\n",
        "  else:\n",
        "    mediana=(t[int(len(t)/2)]+t[int(len(t)/2)])/2\n",
        "  print (\"mediana:\",mediana)\n"
      ]
    },
    {
      "cell_type": "code",
      "execution_count": null,
      "metadata": {
        "id": "Uc8YEPOnsfdg"
      },
      "outputs": [],
      "source": [
        "t = [1, 2, 3, 4, 5, 7]\n",
        "assert maximum(t) == 5\n",
        "assert minimum(t) == 1\n",
        "assert somma(t) == 15\n",
        "assert prod(t) == 120\n",
        "assert round(avg(t), 2) == 3.67\n",
        "assert median(t) == 3.5\n",
        "\n",
        "assert moda([1, 2, 3, 1, 2, 1, 1, 1, 2]) == 1\n",
        "assert moda([1, 2, 3, 3, 3, 1, 2, 1, 2, 3, 3, 3]) == 3\n",
        "\n",
        "# mescolare t non deve cambiare la mediana\n",
        "import random\n",
        "random.seed(42)\n",
        "t = [3, 7, 10, 4, 1, 9, 6, 2, 8]\n",
        "for _ in range(5):\n",
        "  random.shuffle(t)\n",
        "  assert median(t) == 6"
      ]
    },
    {
      "cell_type": "markdown",
      "metadata": {
        "id": "l20W01nvuIWx"
      },
      "source": [
        "## Esercizio 4: generatore di password\n",
        "Definisci una funzione `gen_pwd(length)` che genera una password casuale di lunghezza `length`. Per sicurezza, la password deve sempre essere di almeno 8 caratteri (anche nei casi in cui `length < 8`). La password ritornata (stringa) deve contenere almeno una lettera minuscola, una maiuscola, un numero e un carattere speciale. I caratteri speciali sono i seguenti: ~!@#$%^&*()_+.\n",
        "La soluzione dovrebbe importare il modulo `random` per generare queste password in maniera casuale. "
      ]
    },
    {
      "cell_type": "code",
      "execution_count": null,
      "metadata": {
        "id": "U0UoEo_euH33"
      },
      "outputs": [],
      "source": [
        "from random import *\n",
        "import string\n",
        "import random\n",
        "def gen_pwd(length):\n",
        "  flag_maiuscole=False\n",
        "  flag_minuscole=False\n",
        "  flag_numero=False\n",
        "  i=0\n",
        "  num=randint(0,length-1)\n",
        "  if length<8:\n",
        "    length=8\n",
        "  passw=[None]*length\n",
        "  while i<length-3:\n",
        "    while passw[num]!=None:\n",
        "      num=randint(0,length-1)\n",
        "    carattere=random.choice(string.ascii_letters)\n",
        "    passw[num]= carattere\n",
        "    if ord(carattere)>=65 and ord(carattere)<=90:\n",
        "      flag_maiuscole=True\n",
        "    else:\n",
        "      flag_minuscole=True\n",
        "    i+=1\n",
        "  if flag_maiuscole==False:\n",
        "    while passw[num]!=None:\n",
        "      num=randint(0,length-1)\n",
        "      carattere=random.choice(string.ascii_uppercase)\n",
        "      passw[num]= carattere\n",
        "  if flag_minuscole==False:\n",
        "    while passw[num]!=None:\n",
        "      num=randint(0,length-1)\n",
        "      carattere=random.choice(string.ascii_lowercase)\n",
        "      passw[num]= carattere\n",
        "  if flag_minuscole==True and flag_maiuscole==True:\n",
        "      while passw[num]!=None:\n",
        "        num=randint(0,length-1)\n",
        "      passw[num]=randint(0,9)\n",
        "      while passw[num]!=None:\n",
        "        num=randint(0,length-1)\n",
        "      carattere=random.choice(string.ascii_letters)\n",
        "      passw[num]= carattere\n",
        "      while passw[num]!=None:\n",
        "        num=randint(0,length-1)\n",
        "      carattere= random.choice([\"~\",\"!\",\"@\",\"#\",\"$\",\"%\",\"^\",\"&\",\"*\",\"(\",\")\",\"+\",\".\"])\n",
        "      passw[num]= carattere\n",
        "\n",
        "  password = ''.join(map(str, passw))\n",
        "  print(password)\n",
        "  return password"
      ]
    },
    {
      "cell_type": "code",
      "execution_count": null,
      "metadata": {
        "id": "fuBNhAuq7aM1"
      },
      "outputs": [],
      "source": [
        "assert len(gen_pwd(7)) == 8 \n",
        "assert len(gen_pwd(8)) == 8 \n",
        "from string import ascii_uppercase, ascii_lowercase, digits\n",
        "special = '~!@#$%^&*()_+.'\n",
        "pwd = gen_pwd(8)\n",
        "assert any(c in pwd for c in ascii_uppercase), 'uppercase letter missing'\n",
        "assert any(c in pwd for c in ascii_lowercase), 'lowercase letter missing'\n",
        "assert any(d in pwd for d in digits), 'digit missing'\n",
        "assert any(s in pwd for s in special), 'special char missing'"
      ]
    },
    {
      "cell_type": "markdown",
      "metadata": {
        "id": "Ek2SNDO6HLlP"
      },
      "source": [
        "## Esercizio 5: Bubble Sort\n",
        "Il Bubble Sort è un algoritmo di ordinamento, spesso il primo insegnato agli studenti di informatica. Anche se inefficiente e inadatto al software del mondo reale, è un algoritmo molto semplice da capire e implementare. L'idea è iterare ripetutamente il vettore da ordinare, considerando coppie consecutive di elementi; se la coppia non è in ordine (cioè, in posizione $i-1$ c'è un elemento più grande di quello in posizione $i$), i due elementi vengono scambiati. L'algoritmo termina quanto itero il vettore dall'inizio alla fine senza effettuare alcuno swap. Su Wikipedia (https://en.wikipedia.org/wiki/Bubble_sort) trovate una spiegazione più dettagliata e un esempio visivo, oltre al pseudocodice.\n",
        "\n",
        "Definisci una funzione `bubble_sort(numbers)` che ordina in-place (senza creare una nuova variabile) la lista `numbers` tramite bubble sort e ritorna la lista ordinata. \n",
        "\n",
        "\n"
      ]
    },
    {
      "cell_type": "code",
      "execution_count": null,
      "metadata": {
        "id": "FFjq5dNgHMLP"
      },
      "outputs": [],
      "source": [
        "def bubble_sort(numbers):\n",
        "    n = len(numbers)\n",
        "    swapped = False    \n",
        "    for i in range(n-1):      \n",
        "        for j in range(n-1):\n",
        "            if numbers[j] > numbers[j + 1]:\n",
        "                swapped = True\n",
        "                numbers[j], numbers[j + 1] = numbers[j + 1], numbers[j]\n",
        "                j-=1        \n",
        "        if not swapped:\n",
        "            return"
      ]
    },
    {
      "cell_type": "code",
      "execution_count": null,
      "metadata": {
        "id": "n8oGTsv6IIEH"
      },
      "outputs": [],
      "source": [
        "assert bubble_sort([2, 0, 4, 1, 3]) == [0, 1, 2, 3, 4]\n",
        "assert bubble_sort([2, 2, 2, 2]) == [2, 2, 2, 2]"
      ]
    },
    {
      "cell_type": "markdown",
      "metadata": {
        "id": "LVTlxByZP8fB"
      },
      "source": [
        "## Esercizio 6: strette di mano\n",
        "Definisci una funzione `print_handshakes(people)` che, data una lista di nomi di persone `people` printa \"X shakes hands with Y\", where X e Y sono tutte le possibili combinazioni di strette di mano tra persone nella lista. Non devono esserci duplicati - se A stringe la mano a B, B non deve stringerla ad A. Ad esempio, `print_handshakes(['Alice', 'Bob', 'Carol', 'David'])` dovrebbe printare:\n",
        "\n",
        "Alice shakes hands with Bob\n",
        "Alice shakes hands with Carol\n",
        "Alice shakes hands with David\n",
        "Bob shakes hands with Carol\n",
        "Bob shakes hands with David\n",
        "Carol shakes hands with David\n",
        "\n",
        "La funzione deve anche ritornare un intero che rappresenta il numero totale di strette di mano."
      ]
    },
    {
      "cell_type": "code",
      "execution_count": null,
      "metadata": {
        "id": "Evxe0gVmQDjK"
      },
      "outputs": [],
      "source": [
        "def print_handshakes(people):\n",
        "  sommatoria=[None]*(len(people)-1)\n",
        "  j=1\n",
        "  for i in range (0,len(people)-1):\n",
        "    sommatoria[i]=j\n",
        "    j+=1\n",
        "  numerostrette=sum(sommatoria)\n",
        "  print(numerostrette)\n",
        "  for i in range (0,len(people)):\n",
        "    for j in range (i+1,len(people)):\n",
        "      print(people[i], \"shakes hands with\", people[j], end=\". \")\n",
        "  return numerostrette"
      ]
    },
    {
      "cell_type": "code",
      "execution_count": null,
      "metadata": {
        "id": "AkBViajXP76Y"
      },
      "outputs": [],
      "source": [
        "assert print_handshakes(['Alice', 'Bob']) == 1\n",
        "assert print_handshakes(['Alice', 'Bob', 'Carol']) == 3\n",
        "assert print_handshakes(['Alice', 'Bob', 'Carol', 'David']) == 6"
      ]
    },
    {
      "cell_type": "markdown",
      "metadata": {
        "id": "lN9tHYCwVBYC"
      },
      "source": [
        "## Esercizio 7: random shuffle\n",
        "Definisci una funzione `shuffle(values)` che mescola la lista `values`, ovvero modifica in maniera randomica la posizione di ogni elemento della lista. La funzione non deve ritornare la lista ordinata. La lista mescolata deve contenere gli stessi elementi, ma in un ordine diverso (random).\n",
        "Nota: l'esercizio chiede di implementare una funzione identical al `random.shuffle()` nativamente incluso in Python. Chiaramente, evita di usare questa funzione dato che renderebbe l'esercizio inutile."
      ]
    },
    {
      "cell_type": "code",
      "execution_count": null,
      "metadata": {
        "id": "ZWY4SZFpVB7h"
      },
      "outputs": [],
      "source": [
        "import random\n",
        "def shuffle(values):\n",
        "  if values == []:\n",
        "    return []\n",
        "  lenght = len(values)-1\n",
        "  for i in range(len(values)):\n",
        "    ran = random.randint(0,lenght)\n",
        "    ran2 = random.randint(0,lenght)\n",
        "    values[ran], values[ran2] = values[ran2], values[ran]\n",
        "  return values"
      ]
    },
    {
      "cell_type": "code",
      "execution_count": null,
      "metadata": {
        "id": "ivenskRyVENk"
      },
      "outputs": [],
      "source": [
        "random.seed(42)\n",
        "# Perform this test ten times:\n",
        "for i in range(10):\n",
        "testData1 = [1, 2, 3, 4, 5, 6, 7, 8, 9, 10]\n",
        "shuffle(testData1)\n",
        "# Make sure the number of values hasn't changed:\n",
        "assert len(testData1) == 10\n",
        "# Make sure the order has changed:\n",
        "assert testData1 != [1, 2, 3, 4, 5, 6, 7, 8, 9, 10]\n",
        "# Make sure that when re-sorted, all the original values are there:\n",
        "assert sorted(testData1) == [1, 2, 3, 4, 5, 6, 7, 8, 9, 10]\n",
        "# Make sure an empty list shuffled remains empty:\n",
        "testData2 = []\n",
        "shuffle(testData2)\n",
        "assert testData2 == []"
      ]
    },
    {
      "cell_type": "markdown",
      "metadata": {
        "id": "FUnkKpMMVEnH"
      },
      "source": [
        "## Esercizio 8: merge di due liste ordinate\n",
        "Uno degli algoritmi di ordinamento più efficienti è il Merge Sort, che si compone di due fasi: divisione e merge. è un algoritmo discretamente complesso, quindi non lo tratteremo interamente. Ci concentriamo invece sulla seconda parte, ovvero il merge.\n",
        "\n",
        "Scrivi una funzione `merge_lists(l1, l2)` che prende due liste ordinate `l1, l2` e ritorna una singla lista ordinata contenente gli elementi di queste due liste. Cerca di non usare `sorted()` o `list.sort()` nella soluzione dell'esercizio."
      ]
    },
    {
      "cell_type": "markdown",
      "metadata": {
        "id": "eVDuwir3VHR4"
      },
      "source": [
        "def merge_lists(l1, l2):\n",
        "  l3 = l1 + l2\n",
        "  return bubble_sort(l3)"
      ]
    },
    {
      "cell_type": "code",
      "execution_count": null,
      "metadata": {},
      "outputs": [],
      "source": [
        "def merge_lists(l1, l2):\n",
        "    l3=[None]*(len(l1)+len(l2))\n",
        "    j=0\n",
        "    k=0\n",
        "    for i in range (len(l3)):\n",
        "        if j == len(l1):\n",
        "            l3[i]=l2[k]\n",
        "            k+=1\n",
        "        elif k == len(l2):\n",
        "            l3[i]=l1[j]\n",
        "            j+=1\n",
        "        elif l1[j]<=l2[k]:\n",
        "            l3[i]=l1[j]\n",
        "            j+=1\n",
        "        else:\n",
        "            l3[i]=l2[k]\n",
        "            k+=1\n",
        "    for i in range (len(l3)):\n",
        "        print(l3[i])"
      ]
    },
    {
      "cell_type": "code",
      "execution_count": null,
      "metadata": {
        "id": "ErXNNSABVG2j"
      },
      "outputs": [],
      "source": [
        "assert merge_lists([1, 3, 6], [5, 7, 8, 9]) == [1, 3, 5, 6, 7, 8, 9]\n",
        "assert merge_lists([1, 2, 3], [4, 5]) == [1, 2, 3, 4, 5]\n",
        "assert merge_lists([4, 5], [1, 2, 3]) == [1, 2, 3, 4, 5]\n",
        "assert merge_lists([2, 2, 2], [2, 2, 2]) == [2, 2, 2, 2, 2, 2]\n",
        "assert merge_lists([1, 2, 3], []) == [1, 2, 3]\n",
        "assert merge_lists([], [1, 2, 3]) == [1, 2, 3]"
      ]
    },
    {
      "cell_type": "markdown",
      "metadata": {
        "id": "6uQ3EP7n7Z1S"
      },
      "source": [
        "## Esercizio 9: file CSV\n",
        "Un file CSV (Comma Separated Values) è un file di testo in cui ogni riga è un record (simile a una tabella di un DB) e usa la virgola (o altro carattere speciale) per delimitare i valori dei campi all'interno del record. Spesso inoltre presenta una priga riga (header) contenente il nome di ogni colonna. Questo tipo di file è molto usato, specie per contenere dataset (insiemi di dati).\n",
        "\n",
        "Le due celle di codice che seguono scaricano un famoso file CSV (un dataset contenente dati dei passeggeri del Titanic) e mostrano le prime righe di tale file."
      ]
    },
    {
      "cell_type": "code",
      "execution_count": null,
      "metadata": {
        "colab": {
          "base_uri": "https://localhost:8080/"
        },
        "id": "qzKFXYi29TY4",
        "outputId": "19d0f56a-803f-407a-b30d-412c8c43d474"
      },
      "outputs": [],
      "source": [
        "!wget https://raw.githubusercontent.com/datasciencedojo/datasets/master/titanic.csv"
      ]
    },
    {
      "cell_type": "code",
      "execution_count": null,
      "metadata": {
        "colab": {
          "base_uri": "https://localhost:8080/"
        },
        "id": "IvugYqvT90St",
        "outputId": "ac4ea850-aa61-4c3a-b1a1-08f050db32ed"
      },
      "outputs": [],
      "source": [
        "!head titanic.csv"
      ]
    },
    {
      "cell_type": "markdown",
      "metadata": {
        "id": "krWpDLjADLCz"
      },
      "source": [
        "Ad esempio, la prima colonna è l'ID del passeggero, la seconda indica se è sopravvissuto o meno (notare 0/1 anzichè True/False) e la terza la classe del passeggero. Notare che in generale un record potrebbe avere dei campi mancanti (ad esempio nel primo record il campo \"cabin\" è mancante, si nota dalle doppie virgole \",,\"). \n",
        "\n",
        "L'obiettivo è definire una funzione `load_data(file)` che legge il file e ritorna una struttura dati contenente tutti i dati di tutti i passeggeri. I campi mancanti devono avere valore `None`. La scelta della struttura sta a te, ad esempio si potrebbe usare un `dict` che ha come chiavi i nomi delle colonne, oppure una classe definita ad hoc. Idealmente, la struttura dati dovrebbe permettere di accedere a un particolare record in maniera rapida (es. tramite slicing `print(data[50])` o un metodo custom `print(data.get(50))` o come vi pare dovrei riuscire ad ottenere qualunque record in maniera semplice, in questo caso il 50esimo). Sarebbe ottimale avere la possibilità di effettuare slicing \"column-wise\", ovvero richiedere una singola colonna; ad esempio, `data['Name']` o `data.col['Name']` dovrebbe ritornare un iterabile contenente il nome di tutti i passeggeri.\n",
        "\n",
        "Fatto questo, computare qualche semplice statistica del dataset usando la vostra struttura dati. Qualche suggerimento: percentuale di uomini/donne a bordo, nome più (o meno) diffuso, costo medio del biglietto, distribuzione delle età (cioè: $x$ persone con 22 anni, $y$ persone con 23 anni, $z$ con 24 anni, ...)."
      ]
    },
    {
      "cell_type": "code",
      "execution_count": 1,
      "metadata": {
        "id": "Vi1dD5jKDK1D"
      },
      "outputs": [],
      "source": [
        "def load_data(file):\n",
        "    import os     \n",
        "    raw_lines = []\n",
        "    with open(f'{file}.csv') as f:\n",
        "        raw_lines = [line.strip() for line in f]\n",
        "\n",
        "    header = raw_lines[0]\n",
        "    fields = header.split(\",\")\n",
        "    \n",
        "  \n",
        "    data = { c:[] for c in fields }\n",
        "    for line in raw_lines[1:]:\n",
        "        values = line.split(\",\")\n",
        "        for c,v in zip(fields, values):\n",
        "            data[c] += [v]\n",
        "    \n",
        "    return data"
      ]
    },
    {
      "cell_type": "code",
      "execution_count": null,
      "metadata": {},
      "outputs": [],
      "source": []
    }
  ],
  "metadata": {
    "colab": {
      "collapsed_sections": [
        "KizLECz3qLuR",
        "veZRTaASf2rZ",
        "nmN8-W4mpWGh",
        "6uQ3EP7n7Z1S"
      ],
      "provenance": []
    },
    "kernelspec": {
      "display_name": "Python 3",
      "language": "python",
      "name": "python3"
    },
    "language_info": {
      "codemirror_mode": {
        "name": "ipython",
        "version": 3
      },
      "file_extension": ".py",
      "mimetype": "text/x-python",
      "name": "python",
      "nbconvert_exporter": "python",
      "pygments_lexer": "ipython3",
      "version": "3.10.9 (tags/v3.10.9:1dd9be6, Dec  6 2022, 20:01:21) [MSC v.1934 64 bit (AMD64)]"
    },
    "latex_envs": {
      "LaTeX_envs_menu_present": true,
      "autoclose": false,
      "autocomplete": true,
      "bibliofile": "biblio.bib",
      "cite_by": "apalike",
      "current_citInitial": 1,
      "eqLabelWithNumbers": true,
      "eqNumInitial": 1,
      "hotkeys": {
        "equation": "Ctrl-E",
        "itemize": "Ctrl-I"
      },
      "labels_anchors": false,
      "latex_user_defs": false,
      "report_style_numbering": false,
      "user_envs_cfg": false
    },
    "vscode": {
      "interpreter": {
        "hash": "486e0d5a79acdbfffd563ee7a67a93a5017bd2a4f66495483a69f0245c8a4a6c"
      }
    }
  },
  "nbformat": 4,
  "nbformat_minor": 0
}
